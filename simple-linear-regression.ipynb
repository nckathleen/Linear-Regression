{
 "cells": [
  {
   "cell_type": "code",
   "execution_count": 13,
   "metadata": {
    "collapsed": false
   },
   "outputs": [],
   "source": [
    "import pandas as pd\n",
    "import matplotlib.pyplot as plt\n",
    "import numpy as np\n",
    "import itertools\n",
    "from sklearn import linear_model\n",
    "\n",
    "%matplotlib inline"
   ]
  },
  {
   "cell_type": "markdown",
   "metadata": {},
   "source": [
    "## Ground Cricket Chirps\n",
    "\n",
    "In _The Song of Insects_ (1948) by George W. Pierce, Pierce mechanically measured the frequency (the number of wing vibrations per second) of chirps (or pulses of sound) made by a striped ground cricket, at various ground temperatures.  Since crickets are ectotherms (cold-blooded), the rate of their physiological processes and their overall metabolism are influenced by temperature.  Consequently, there is reason to believe that temperature would have a profound effect on aspects of their behavior, such as chirp frequency.\n",
    "\n",
    "In general, it was found that crickets did not sing at temperatures colder than 60&deg; F or warmer than 100&deg; F."
   ]
  },
  {
   "cell_type": "code",
   "execution_count": null,
   "metadata": {
    "collapsed": false
   },
   "outputs": [],
   "source": [
    "ground_cricket_data = {\"Chirps_per_Second\": [20.0, 16.0, 19.8, 18.4, 17.1, 15.5, 14.7,\n",
    "                                         15.7, 15.4, 16.3, 15.0, 17.2, 16.0, 17.0,\n",
    "                                         14.4],\n",
    "                       \"Ground Temperature\": [88.6, 71.6, 93.3, 84.3, 80.6, 75.2, 69.7,\n",
    "                                              71.6, 69.4, 83.3, 79.6, 82.6, 80.6, 83.5,\n",
    "                                              76.3]}\n",
    "df = pd.DataFrame(ground_cricket_data)"
   ]
  },
  {
   "cell_type": "markdown",
   "metadata": {},
   "source": [
    "### Tasks\n",
    "\n",
    "1. Find the linear regression equation for this data.\n",
    "2. Chart the original data and the equation on the chart.\n",
    "3. Find the equation's $R^2$ score (use the `.score` method) to determine whether the equation is a good fit for this data. (0.8 and greater is considered a strong correlation.)\n",
    "4. Extrapolate data:  If the ground temperature reached 95&deg; F, then at what approximate rate would you expect the crickets to be chirping?\n",
    "5. Interpolate data:  With a listening device, you discovered that on a particular morning the crickets were chirping at a rate of 18 chirps per second.  What was the approximate ground temperature that morning?"
   ]
  },
  {
   "cell_type": "code",
   "execution_count": null,
   "metadata": {
    "collapsed": false,
    "scrolled": true
   },
   "outputs": [],
   "source": [
    "# 1. Find the linear regression equation for this data.\n",
    "\n",
    "# input_data = np.array(df[['Ground Temperature']])\n",
    "input_data = df[['Ground Temperature']]\n",
    "output_data = df['Chirps_per_Second']\n",
    "\n",
    "regr = linear_model.LinearRegression()   # Create linear regression object\n",
    "regr.fit(input_data, output_data)   # Train the model using the training sets\n",
    "print(regr.coef_, regr.intercept_)\n",
    "print(regr.score(input_data, output_data))"
   ]
  },
  {
   "cell_type": "code",
   "execution_count": null,
   "metadata": {
    "collapsed": false,
    "scrolled": true
   },
   "outputs": [],
   "source": [
    "plt.scatter(input_data, output_data, color='magenta')\n",
    "plt.plot(input_data, regr.predict(input_data), color='blue', linewidth=3)\n",
    "plt.title('Effect of Temperature on Cricket Chirp Rate', )\n",
    "plt.xlabel('Ground Temperature in Degrees F')\n",
    "plt.ylabel('Number of Chirps per Second')\n",
    "plt.show()"
   ]
  },
  {
   "cell_type": "code",
   "execution_count": null,
   "metadata": {
    "collapsed": false
   },
   "outputs": [],
   "source": [
    "def chirps_at_temp(degree):\n",
    "    return degree * regr.coef_ + regr.intercept_\n",
    "chirps_at_temp(95)"
   ]
  },
  {
   "cell_type": "code",
   "execution_count": null,
   "metadata": {
    "collapsed": true
   },
   "outputs": [],
   "source": [
    "# def temp_by_chirps(rate):\n",
    "#     return                         *****  STILL NEED TO DO THIS ONE !!  ******"
   ]
  },
  {
   "cell_type": "code",
   "execution_count": null,
   "metadata": {
    "collapsed": false
   },
   "outputs": [],
   "source": [
    "''' Extrapolate data: If the ground temperature reached 95° F, then at what \n",
    "    approximate rate would you expect the crickets to be chirping?  \n",
    "    \n",
    "    Interpolate data: With a listening device, you discovered that \n",
    "    on a particular morning the crickets were chirping at a rate \n",
    "    of 18 chirps per second. What was the approximate ground temperature \n",
    "    that morning?\n",
    "'''"
   ]
  },
  {
   "cell_type": "markdown",
   "metadata": {},
   "source": [
    "#### It has been observed that crickets do not sing at a ground temperature of 100° F, therefore, it is possible that their rate of chirping would begin to decrease as the temperature approaches 100° F.  \n",
    "#### However, if they are not yet feeling any effect from the temperature approaching 100° F, a visual inspection of the chart leads me to _extrapolate_ that at a temperature of 95° F, the crickets would chirp at a rate of just under 20 chirps per second.  My formula above supports this estimate, with an extrapolation of 19.75 chirps per second at a temperature of 95° F."
   ]
  },
  {
   "cell_type": "code",
   "execution_count": null,
   "metadata": {
    "collapsed": true
   },
   "outputs": [],
   "source": []
  },
  {
   "cell_type": "markdown",
   "metadata": {},
   "source": [
    "## Brain vs. Body Weight\n",
    "\n",
    "In the file `brain_body.txt`, the average brain and body weight for a number of mammal species are recorded. Load this data into a Pandas data frame.\n",
    "\n",
    "### Tasks\n",
    "\n",
    "1. Find the linear regression equation for this data for brain weight to body weight.\n",
    "2. Chart the original data and the equation on the chart.\n",
    "3. Find the equation's $R^2$ score (use the `.score` method) to determine whether the equation is a good fit for this data. (0.8 and greater is considered a strong correlation.)"
   ]
  },
  {
   "cell_type": "code",
   "execution_count": null,
   "metadata": {
    "collapsed": false
   },
   "outputs": [],
   "source": [
    "df2 = pd.read_fwf(\"brain_body.txt\")"
   ]
  },
  {
   "cell_type": "code",
   "execution_count": null,
   "metadata": {
    "collapsed": false
   },
   "outputs": [],
   "source": [
    "'''Find the linear regression equation for this data for brain weight to body weight.'''\n",
    "df2.head()"
   ]
  },
  {
   "cell_type": "code",
   "execution_count": null,
   "metadata": {
    "collapsed": false
   },
   "outputs": [],
   "source": [
    "input_data = np.array(df2[['Brain']])\n",
    "output_data = df2['Body']\n",
    "\n",
    "regr = linear_model.LinearRegression()   # Create linear regression object\n",
    "regr.fit(input_data, output_data)   \n",
    "print(regr.coef_, regr.intercept_)\n",
    "print(regr.score(input_data, output_data))"
   ]
  },
  {
   "cell_type": "code",
   "execution_count": null,
   "metadata": {
    "collapsed": false
   },
   "outputs": [],
   "source": [
    "plt.scatter(input_data, output_data)\n",
    "plt.plot(input_data, regr.predict(input_data), color='red', linewidth=1)\n",
    "plt.title('Relationship of Body Weight to Brain Weight\\n in Mammals', )\n",
    "plt.xlabel('Brain Weight')\n",
    "plt.ylabel('Body Weight')\n",
    "plt.show()"
   ]
  },
  {
   "cell_type": "markdown",
   "metadata": {},
   "source": [
    "## Salary Discrimination\n",
    "\n",
    "The file `salary.txt` contains data for 52 tenure-track professors at a small Midwestern college. This data was used in legal proceedings in the 1980s about discrimination against women in salary.\n",
    "\n",
    "The data in the file, by column:\n",
    "\n",
    "1. Sex. 1 for female, 0 for male.\n",
    "2. Rank. 1 for assistant professor, 2 for associate professor, 3 for full professor.\n",
    "3. Year. Number of years in current rank.\n",
    "4. Degree. Highest degree. 1 for doctorate, 0 for master's.\n",
    "5. YSdeg. Years since highest degree was earned.\n",
    "6. Salary. Salary/year in dollars.\n",
    "\n",
    "### Tasks\n",
    "\n",
    "1. Find the linear regression equation for this data using columns 1-5 to column 6.\n",
    "2. Find the selection of columns with the best $R^2$ score.\n",
    "3. Report whether sex is a factor in salary. Support your argument with graph(s) if appropriate."
   ]
  },
  {
   "cell_type": "code",
   "execution_count": 4,
   "metadata": {
    "collapsed": false
   },
   "outputs": [],
   "source": [
    "df3 = pd.read_fwf(\"salary.txt\", header=None, \n",
    "                 names=[\"Sex\", \"Rank\", \"Year\", \"Degree\", \"YSdeg\", \"Salary\"])"
   ]
  },
  {
   "cell_type": "code",
   "execution_count": 7,
   "metadata": {
    "collapsed": false
   },
   "outputs": [
    {
     "data": {
      "text/html": [
       "<div>\n",
       "<table border=\"1\" class=\"dataframe\">\n",
       "  <thead>\n",
       "    <tr style=\"text-align: right;\">\n",
       "      <th></th>\n",
       "      <th>Sex</th>\n",
       "      <th>Rank</th>\n",
       "      <th>Year</th>\n",
       "      <th>Degree</th>\n",
       "      <th>YSdeg</th>\n",
       "      <th>Salary</th>\n",
       "    </tr>\n",
       "  </thead>\n",
       "  <tbody>\n",
       "    <tr>\n",
       "      <th>0</th>\n",
       "      <td>0</td>\n",
       "      <td>3</td>\n",
       "      <td>25</td>\n",
       "      <td>1</td>\n",
       "      <td>35</td>\n",
       "      <td>36350</td>\n",
       "    </tr>\n",
       "    <tr>\n",
       "      <th>1</th>\n",
       "      <td>0</td>\n",
       "      <td>3</td>\n",
       "      <td>13</td>\n",
       "      <td>1</td>\n",
       "      <td>22</td>\n",
       "      <td>35350</td>\n",
       "    </tr>\n",
       "    <tr>\n",
       "      <th>2</th>\n",
       "      <td>0</td>\n",
       "      <td>3</td>\n",
       "      <td>10</td>\n",
       "      <td>1</td>\n",
       "      <td>23</td>\n",
       "      <td>28200</td>\n",
       "    </tr>\n",
       "    <tr>\n",
       "      <th>3</th>\n",
       "      <td>1</td>\n",
       "      <td>3</td>\n",
       "      <td>7</td>\n",
       "      <td>1</td>\n",
       "      <td>27</td>\n",
       "      <td>26775</td>\n",
       "    </tr>\n",
       "    <tr>\n",
       "      <th>4</th>\n",
       "      <td>0</td>\n",
       "      <td>3</td>\n",
       "      <td>19</td>\n",
       "      <td>0</td>\n",
       "      <td>30</td>\n",
       "      <td>33696</td>\n",
       "    </tr>\n",
       "  </tbody>\n",
       "</table>\n",
       "</div>"
      ],
      "text/plain": [
       "   Sex  Rank  Year  Degree  YSdeg  Salary\n",
       "0    0     3    25       1     35   36350\n",
       "1    0     3    13       1     22   35350\n",
       "2    0     3    10       1     23   28200\n",
       "3    1     3     7       1     27   26775\n",
       "4    0     3    19       0     30   33696"
      ]
     },
     "execution_count": 7,
     "metadata": {},
     "output_type": "execute_result"
    }
   ],
   "source": [
    "'''Find the linear regression equation for this data using columns 1-5 to column 6.'''\n",
    "\n",
    "df3.head()"
   ]
  },
  {
   "cell_type": "markdown",
   "metadata": {},
   "source": [
    "##### Linear Regression for Gender to Salary\n",
    "\n",
    "With an $R^2$ score of .06, there appears to be no relationship between salary and gender."
   ]
  },
  {
   "cell_type": "code",
   "execution_count": 29,
   "metadata": {
    "collapsed": false
   },
   "outputs": [
    {
     "name": "stdout",
     "output_type": "stream",
     "text": [
      "[-3339.64661654] 24696.7894737\n",
      "0.0638989258329\n"
     ]
    }
   ],
   "source": [
    "input_data = np.array(df3[['Sex']])\n",
    "output_data = df3['Salary']\n",
    "\n",
    "regr = linear_model.LinearRegression()   \n",
    "regr.fit(input_data, output_data)   \n",
    "print(regr.coef_, regr.intercept_)\n",
    "print(regr.score(input_data, output_data))"
   ]
  },
  {
   "cell_type": "code",
   "execution_count": 30,
   "metadata": {
    "collapsed": false
   },
   "outputs": [
    {
     "data": {
      "image/png": "[encoded data removed]",
      "text/plain": [
       "<matplotlib.figure.Figure at 0x10846b080>"
      ]
     },
     "metadata": {},
     "output_type": "display_data"
    }
   ],
   "source": [
    "plt.scatter(input_data, output_data, color='green')\n",
    "plt.plot(input_data, regr.predict(input_data), color='red', linewidth=1)\n",
    "plt.title('Relationship of Salary to Gender', )\n",
    "plt.xlabel('Salary')\n",
    "plt.ylabel('Gender')\n",
    "plt.show()"
   ]
  },
  {
   "cell_type": "markdown",
   "metadata": {},
   "source": [
    "##### Linear Regression for Rank to Salary\n",
    "\n",
    "With an $R^2$ score of .75, there appears to be someo relationship between salary and rank."
   ]
  },
  {
   "cell_type": "code",
   "execution_count": 31,
   "metadata": {
    "collapsed": false
   },
   "outputs": [
    {
     "name": "stdout",
     "output_type": "stream",
     "text": [
      "[ 0.00012642] -0.969980872205\n",
      "0.752536053927\n"
     ]
    }
   ],
   "source": [
    "input_data = np.array(df3[['Salary']])\n",
    "output_data = df3['Rank']\n",
    "\n",
    "regr = linear_model.LinearRegression()   \n",
    "regr.fit(input_data, output_data)   \n",
    "print(regr.coef_, regr.intercept_)\n",
    "print(regr.score(input_data, output_data))"
   ]
  },
  {
   "cell_type": "code",
   "execution_count": 32,
   "metadata": {
    "collapsed": false
   },
   "outputs": [
    {
     "data": {
      "image/png": "[encoded data removed]",
      "text/plain": [
       "<matplotlib.figure.Figure at 0x1084be6d8>"
      ]
     },
     "metadata": {},
     "output_type": "display_data"
    }
   ],
   "source": [
    "plt.scatter(input_data, output_data, color='green')\n",
    "plt.plot(input_data, regr.predict(input_data), color='red', linewidth=1)\n",
    "plt.title('Relationship of Salary to Rank', )\n",
    "plt.xlabel('Salary')\n",
    "plt.ylabel('Rank')\n",
    "plt.show()"
   ]
  },
  {
   "cell_type": "markdown",
   "metadata": {},
   "source": [
    "##### Linear Regression for Year to Salary\n",
    "\n",
    "With an $R^2$ score of .49, there appears to be no significant relationship between salary and number of years in current rank."
   ]
  },
  {
   "cell_type": "code",
   "execution_count": 33,
   "metadata": {
    "collapsed": false
   },
   "outputs": [
    {
     "name": "stdout",
     "output_type": "stream",
     "text": [
      "[ 752.79775742] 18166.1475455\n",
      "0.490937026769\n"
     ]
    }
   ],
   "source": [
    "input_data = np.array(df3[['Year']])\n",
    "output_data = df3['Salary']\n",
    "\n",
    "regr = linear_model.LinearRegression()   \n",
    "regr.fit(input_data, output_data)   \n",
    "print(regr.coef_, regr.intercept_)\n",
    "print(regr.score(input_data, output_data))"
   ]
  },
  {
   "cell_type": "code",
   "execution_count": 34,
   "metadata": {
    "collapsed": false
   },
   "outputs": [
    {
     "data": {
      "image/png": "[encoded data removed]",
      "text/plain": [
       "<matplotlib.figure.Figure at 0x10876ffd0>"
      ]
     },
     "metadata": {},
     "output_type": "display_data"
    }
   ],
   "source": [
    "plt.scatter(input_data, output_data, color='green')\n",
    "plt.plot(input_data, regr.predict(input_data), color='red', linewidth=1)\n",
    "plt.title('Relationship of Years in Current Rank to Gender', )\n",
    "plt.xlabel('Salary')\n",
    "plt.ylabel('Years in Current Rank')\n",
    "plt.show()"
   ]
  },
  {
   "cell_type": "markdown",
   "metadata": {},
   "source": [
    "##### Linear Regression for Highest Degree to Salary\n",
    "\n",
    "With an $R^2$ score of .004, there appears to be no relationship between salary and highest degree earned."
   ]
  },
  {
   "cell_type": "code",
   "execution_count": 35,
   "metadata": {
    "collapsed": false
   },
   "outputs": [
    {
     "name": "stdout",
     "output_type": "stream",
     "text": [
      "[-858.86928105] 24359.2222222\n",
      "0.00486168098475\n"
     ]
    }
   ],
   "source": [
    "input_data = np.array(df3[['Degree']])\n",
    "output_data = df3['Salary']\n",
    "\n",
    "regr = linear_model.LinearRegression()   \n",
    "regr.fit(input_data, output_data)   \n",
    "print(regr.coef_, regr.intercept_)\n",
    "print(regr.score(input_data, output_data))"
   ]
  },
  {
   "cell_type": "code",
   "execution_count": 36,
   "metadata": {
    "collapsed": false
   },
   "outputs": [
    {
     "data": {
      "image/png": "[encoded data removed]",
      "text/plain": [
       "<matplotlib.figure.Figure at 0x109072470>"
      ]
     },
     "metadata": {},
     "output_type": "display_data"
    }
   ],
   "source": [
    "plt.scatter(input_data, output_data, color='green')\n",
    "plt.plot(input_data, regr.predict(input_data), color='red', linewidth=1)\n",
    "plt.title('Relationship of Salary to Degree', )\n",
    "plt.xlabel('Salary')\n",
    "plt.ylabel('Degree')\n",
    "plt.show()"
   ]
  },
  {
   "cell_type": "markdown",
   "metadata": {},
   "source": [
    "##### Linear Regression for Number of Years Since Degree to Salary\n",
    "\n",
    "With an $R^2$ score of .46, there appears to be no significant relationship between salary and number of years since the highest degree was earned."
   ]
  },
  {
   "cell_type": "code",
   "execution_count": 37,
   "metadata": {
    "collapsed": false
   },
   "outputs": [
    {
     "name": "stdout",
     "output_type": "stream",
     "text": [
      "[ 390.64512637] 17502.2573866\n",
      "0.455428134584\n"
     ]
    }
   ],
   "source": [
    "input_data = np.array(df3[['YSdeg']])\n",
    "output_data = df3['Salary']\n",
    "\n",
    "regr = linear_model.LinearRegression()   \n",
    "regr.fit(input_data, output_data)   \n",
    "print(regr.coef_, regr.intercept_)\n",
    "print(regr.score(input_data, output_data))"
   ]
  },
  {
   "cell_type": "code",
   "execution_count": 38,
   "metadata": {
    "collapsed": false
   },
   "outputs": [
    {
     "data": {
      "image/png": "[encoded data removed]",
      "text/plain": [
       "<matplotlib.figure.Figure at 0x10876fbe0>"
      ]
     },
     "metadata": {},
     "output_type": "display_data"
    }
   ],
   "source": [
    "plt.scatter(input_data, output_data, color='green')\n",
    "plt.plot(input_data, regr.predict(input_data), color='red', linewidth=1)\n",
    "plt.title('Relationship of Salary to Years Since Highest Degree', )\n",
    "plt.xlabel('Salary')\n",
    "plt.ylabel('Years Since Highest Degree')\n",
    "plt.show()"
   ]
  },
  {
   "cell_type": "markdown",
   "metadata": {},
   "source": [
    "### Searching for Columns with the Best $R^2$ Score\n",
    "\n",
    "In order to find out which of the various criteria which go into the determination of salary has the highest $R^2$ score, I will run all the possible combinations of criteria through a regression and store the results."
   ]
  },
  {
   "cell_type": "code",
   "execution_count": 54,
   "metadata": {
    "collapsed": false
   },
   "outputs": [
    {
     "name": "stdout",
     "output_type": "stream",
     "text": [
      "[LinearRegression(copy_X=True, fit_intercept=True, n_jobs=1, normalize=False), LinearRegression(copy_X=True, fit_intercept=True, n_jobs=1, normalize=False), LinearRegression(copy_X=True, fit_intercept=True, n_jobs=1, normalize=False), LinearRegression(copy_X=True, fit_intercept=True, n_jobs=1, normalize=False), LinearRegression(copy_X=True, fit_intercept=True, n_jobs=1, normalize=False), LinearRegression(copy_X=True, fit_intercept=True, n_jobs=1, normalize=False), LinearRegression(copy_X=True, fit_intercept=True, n_jobs=1, normalize=False), LinearRegression(copy_X=True, fit_intercept=True, n_jobs=1, normalize=False), LinearRegression(copy_X=True, fit_intercept=True, n_jobs=1, normalize=False), LinearRegression(copy_X=True, fit_intercept=True, n_jobs=1, normalize=False), LinearRegression(copy_X=True, fit_intercept=True, n_jobs=1, normalize=False), LinearRegression(copy_X=True, fit_intercept=True, n_jobs=1, normalize=False), LinearRegression(copy_X=True, fit_intercept=True, n_jobs=1, normalize=False), LinearRegression(copy_X=True, fit_intercept=True, n_jobs=1, normalize=False), LinearRegression(copy_X=True, fit_intercept=True, n_jobs=1, normalize=False), LinearRegression(copy_X=True, fit_intercept=True, n_jobs=1, normalize=False), LinearRegression(copy_X=True, fit_intercept=True, n_jobs=1, normalize=False), LinearRegression(copy_X=True, fit_intercept=True, n_jobs=1, normalize=False), LinearRegression(copy_X=True, fit_intercept=True, n_jobs=1, normalize=False), LinearRegression(copy_X=True, fit_intercept=True, n_jobs=1, normalize=False), LinearRegression(copy_X=True, fit_intercept=True, n_jobs=1, normalize=False), LinearRegression(copy_X=True, fit_intercept=True, n_jobs=1, normalize=False), LinearRegression(copy_X=True, fit_intercept=True, n_jobs=1, normalize=False), LinearRegression(copy_X=True, fit_intercept=True, n_jobs=1, normalize=False), LinearRegression(copy_X=True, fit_intercept=True, n_jobs=1, normalize=False), LinearRegression(copy_X=True, fit_intercept=True, n_jobs=1, normalize=False)]\n"
     ]
    },
    {
     "data": {
      "text/plain": [
       "array([-0.02637836, -0.02875615])"
      ]
     },
     "execution_count": 54,
     "metadata": {},
     "output_type": "execute_result"
    }
   ],
   "source": [
    "poss_cols = ['Sex', 'Rank', 'Year', 'Degree', 'YSdeg']\n",
    "combos = []\n",
    "regr_scores = []\n",
    "for x in range(2,6):\n",
    "    combos.append(list(itertools.combinations(poss_cols, x)))\n",
    "# print(combos)\n",
    "\n",
    "for a in combos:\n",
    "    for b in a:\n",
    "#        print(b)\n",
    "        input_data = df3[list(b)]\n",
    "        output_data = df3['Sex']\n",
    "        regr = linear_model.LinearRegression()   \n",
    "        regr_scores.append(regr.fit(input_data, output_data))\n",
    "\n",
    "print(regr_scores)\n",
    "regr_scores[4].coef_\n",
    "\n",
    "    \n",
    "    "
   ]
  },
  {
   "cell_type": "code",
   "execution_count": null,
   "metadata": {
    "collapsed": true
   },
   "outputs": [],
   "source": []
  }
 ],
 "metadata": {
  "kernelspec": {
   "display_name": "Python 3",
   "language": "python",
   "name": "python3"
  },
  "language_info": {
   "codemirror_mode": {
    "name": "ipython",
    "version": 3
   },
   "file_extension": ".py",
   "mimetype": "text/x-python",
   "name": "python",
   "nbconvert_exporter": "python",
   "pygments_lexer": "ipython3",
   "version": "3.4.3"
  }
 },
 "nbformat": 4,
 "nbformat_minor": 0
}
