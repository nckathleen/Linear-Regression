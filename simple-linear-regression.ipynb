{
 "cells": [
  {
   "cell_type": "code",
   "execution_count": 1,
   "metadata": {
    "collapsed": false
   },
   "outputs": [],
   "source": [
    "import pandas as pd\n",
    "import matplotlib.pyplot as plt\n",
    "import numpy as np\n",
    "import itertools\n",
    "from sklearn import linear_model\n",
    "\n",
    "%matplotlib inline"
   ]
  },
  {
   "cell_type": "markdown",
   "metadata": {},
   "source": [
    "## Ground Cricket Chirps\n",
    "\n",
    "In _The Song of Insects_ (1948) by George W. Pierce, Pierce mechanically measured the frequency (the number of wing vibrations per second) of chirps (or pulses of sound) made by a striped ground cricket, at various ground temperatures.  Since crickets are ectotherms (cold-blooded), the rate of their physiological processes and their overall metabolism are influenced by temperature.  Consequently, there is reason to believe that temperature would have a profound effect on aspects of their behavior, such as chirp frequency.\n",
    "\n",
    "In general, it was found that crickets did not sing at temperatures colder than 60&deg; F or warmer than 100&deg; F."
   ]
  },
  {
   "cell_type": "code",
   "execution_count": 2,
   "metadata": {
    "collapsed": false
   },
   "outputs": [],
   "source": [
    "ground_cricket_data = {\"Chirps_per_Second\": [20.0, 16.0, 19.8, 18.4, 17.1, 15.5, 14.7,\n",
    "                                         15.7, 15.4, 16.3, 15.0, 17.2, 16.0, 17.0,\n",
    "                                         14.4],\n",
    "                       \"Ground Temperature\": [88.6, 71.6, 93.3, 84.3, 80.6, 75.2, 69.7,\n",
    "                                              71.6, 69.4, 83.3, 79.6, 82.6, 80.6, 83.5,\n",
    "                                              76.3]}\n",
    "df = pd.DataFrame(ground_cricket_data)"
   ]
  },
  {
   "cell_type": "markdown",
   "metadata": {},
   "source": [
    "### Tasks\n",
    "\n",
    "1. Find the linear regression equation for this data.\n",
    "2. Chart the original data and the equation on the chart.\n",
    "3. Find the equation's $R^2$ score (use the `.score` method) to determine whether the equation is a good fit for this data. (0.8 and greater is considered a strong correlation.)\n",
    "4. Extrapolate data:  If the ground temperature reached 95&deg; F, then at what approximate rate would you expect the crickets to be chirping?\n",
    "5. Interpolate data:  With a listening device, you discovered that on a particular morning the crickets were chirping at a rate of 18 chirps per second.  What was the approximate ground temperature that morning?"
   ]
  },
  {
   "cell_type": "code",
   "execution_count": 3,
   "metadata": {
    "collapsed": false,
    "scrolled": true
   },
   "outputs": [
    {
     "name": "stdout",
     "output_type": "stream",
     "text": [
      "[ 0.20299973] 0.459314645236\n",
      "0.692294652915\n"
     ]
    }
   ],
   "source": [
    "# 1. Find the linear regression equation for this data.\n",
    "\n",
    "input_data = df[['Ground Temperature']]\n",
    "output_data = df['Chirps_per_Second']\n",
    "\n",
    "regr = linear_model.LinearRegression()   # Create linear regression object\n",
    "regr.fit(input_data, output_data)   # Train the model using the training sets\n",
    "print(regr.coef_, regr.intercept_)\n",
    "print(regr.score(input_data, output_data))"
   ]
  },
  {
   "cell_type": "code",
   "execution_count": 4,
   "metadata": {
    "collapsed": false,
    "scrolled": true
   },
   "outputs": [
    {
     "data": {
      "image/png": "[encoded data removed]",
      "text/plain": [
       "<matplotlib.figure.Figure at 0x10826a518>"
      ]
     },
     "metadata": {},
     "output_type": "display_data"
    }
   ],
   "source": [
    "# Chart the original data and the equation on the chart.\n",
    "\n",
    "plt.scatter(input_data, output_data, color='magenta')\n",
    "plt.plot(input_data, regr.predict(input_data), color='blue', linewidth=1)\n",
    "plt.title('Effect of Temperature on Cricket Chirp Rate', )\n",
    "plt.xlabel('Ground Temperature in Degrees F')\n",
    "plt.ylabel('Number of Chirps per Second')\n",
    "plt.show()"
   ]
  },
  {
   "cell_type": "code",
   "execution_count": 5,
   "metadata": {
    "collapsed": false
   },
   "outputs": [
    {
     "data": {
      "text/plain": [
       "array([ 19.74428913])"
      ]
     },
     "execution_count": 5,
     "metadata": {},
     "output_type": "execute_result"
    }
   ],
   "source": [
    "#Extrapolate Data\n",
    "\n",
    "def chirps_at_temp(degree):\n",
    "    return degree * regr.coef_ + regr.intercept_\n",
    "chirps_at_temp(95)"
   ]
  },
  {
   "cell_type": "code",
   "execution_count": 6,
   "metadata": {
    "collapsed": false
   },
   "outputs": [
    {
     "data": {
      "text/plain": [
       "array([ 86.40743135])"
      ]
     },
     "execution_count": 6,
     "metadata": {},
     "output_type": "execute_result"
    }
   ],
   "source": [
    "#Interpolate Data\n",
    "\n",
    "(18 - regr.intercept_) / regr.coef_"
   ]
  },
  {
   "cell_type": "markdown",
   "metadata": {},
   "source": [
    "###  Cricket Observations:\n",
    "\n",
    "#### Extrapolation:\n",
    "If the ground temperature reached 95° F, then at what approximate rate would you expect the crickets to be chirping?  It has been observed that crickets do not sing at a ground temperature of 100° F, therefore, it is possible that their rate of chirping would begin to decrease as the temperature approaches 100° F.  \n",
    "However, if they are not yet feeling any effect from the temperature approaching 100° F, a visual inspection of the chart leads me to _extrapolate_ that at a temperature of 95° F, the crickets would chirp at a rate of just under 20 chirps per second.  My formula above supports this estimate, with an extrapolation of 19.75 chirps per second at a temperature of 95° F.\n",
    "\n",
    "#### Interpolation:\n",
    "With a listening device, you discovered that on a particular morning the crickets were chirping at a rate of 18 chirps per second. What was the approximate ground temperature that morning?  The ground temperature would be approximately 86.4° F if the crickets felt moved to chirp at a rate of 18 chirps per second."
   ]
  },
  {
   "cell_type": "markdown",
   "metadata": {
    "collapsed": true
   },
   "source": [
    "###  -------------------------------------------------------------------------------------------------"
   ]
  },
  {
   "cell_type": "markdown",
   "metadata": {},
   "source": [
    "## Brain vs. Body Weight\n",
    "\n",
    "In the file `brain_body.txt`, the average brain and body weight for a number of mammal species are recorded. Load this data into a Pandas data frame.\n",
    "\n",
    "### Tasks\n",
    "\n",
    "1. Find the linear regression equation for this data for brain weight to body weight.\n",
    "2. Chart the original data and the equation on the chart.\n",
    "3. Find the equation's $R^2$ score (use the `.score` method) to determine whether the equation is a good fit for this data. (0.8 and greater is considered a strong correlation.)"
   ]
  },
  {
   "cell_type": "code",
   "execution_count": 7,
   "metadata": {
    "collapsed": false
   },
   "outputs": [],
   "source": [
    "df2 = pd.read_fwf(\"brain_body.txt\")"
   ]
  },
  {
   "cell_type": "code",
   "execution_count": 8,
   "metadata": {
    "collapsed": false
   },
   "outputs": [
    {
     "name": "stdout",
     "output_type": "stream",
     "text": [
      "[ 0.96649637] 91.0043962074\n",
      "0.872662084304\n"
     ]
    }
   ],
   "source": [
    "# Find the linear regression equation for this data for brain weight to body weight.\n",
    "\n",
    "input_data = np.array(df2[['Brain']])\n",
    "output_data = df2['Body']\n",
    "\n",
    "# Find the equation's R2 score (use the .score method) \n",
    "# to determine whether the equation is a good fit for this data. \n",
    "\n",
    "regr = linear_model.LinearRegression()   # Create linear regression object\n",
    "regr.fit(input_data, output_data)   \n",
    "print(regr.coef_, regr.intercept_)\n",
    "print(regr.score(input_data, output_data))"
   ]
  },
  {
   "cell_type": "code",
   "execution_count": 9,
   "metadata": {
    "collapsed": false
   },
   "outputs": [
    {
     "data": {
      "image/png": "[encoded data removed]",
      "text/plain": [
       "<matplotlib.figure.Figure at 0x10834a0f0>"
      ]
     },
     "metadata": {},
     "output_type": "display_data"
    }
   ],
   "source": [
    "# Chart the original data and the equation on the chart.\n",
    "\n",
    "plt.scatter(input_data, output_data)\n",
    "plt.plot(input_data, regr.predict(input_data), color='red', linewidth=1)\n",
    "plt.title('Relationship of Body Weight to Brain Weight\\n in Mammals', )\n",
    "plt.xlabel('Brain Weight')\n",
    "plt.ylabel('Body Weight')\n",
    "plt.show()"
   ]
  },
  {
   "cell_type": "markdown",
   "metadata": {},
   "source": [
    "###  -------------------------------------------------------------------------------------------------"
   ]
  },
  {
   "cell_type": "markdown",
   "metadata": {},
   "source": [
    "## Salary Discrimination\n",
    "\n",
    "The file `salary.txt` contains data for 52 tenure-track professors at a small Midwestern college. This data was used in legal proceedings in the 1980s about discrimination against women in salary.\n",
    "\n",
    "The data in the file, by column:\n",
    "\n",
    "1. Sex. 1 for female, 0 for male.\n",
    "2. Rank. 1 for assistant professor, 2 for associate professor, 3 for full professor.\n",
    "3. Year. Number of years in current rank.\n",
    "4. Degree. Highest degree. 1 for doctorate, 0 for master's.\n",
    "5. YSdeg. Years since highest degree was earned.\n",
    "6. Salary. Salary/year in dollars.\n",
    "\n",
    "### Tasks\n",
    "\n",
    "1. Find the linear regression equation for this data using columns 1-5 to column 6.\n",
    "2. Find the selection of columns with the best $R^2$ score.\n",
    "3. Report whether sex is a factor in salary. Support your argument with graph(s) if appropriate."
   ]
  },
  {
   "cell_type": "code",
   "execution_count": 10,
   "metadata": {
    "collapsed": false
   },
   "outputs": [],
   "source": [
    "df3 = pd.read_fwf(\"salary.txt\", header=None, \n",
    "                 names=[\"Sex\", \"Rank\", \"Year\", \"Degree\", \"YSdeg\", \"Salary\"])"
   ]
  },
  {
   "cell_type": "markdown",
   "metadata": {},
   "source": [
    "##### Linear Regression for Gender to Salary\n",
    "\n",
    "With an $R^2$ score of .06, there appears to be no relationship between salary and gender."
   ]
  },
  {
   "cell_type": "code",
   "execution_count": 11,
   "metadata": {
    "collapsed": false
   },
   "outputs": [
    {
     "name": "stdout",
     "output_type": "stream",
     "text": [
      "[-3339.64661654] 24696.7894737\n",
      "0.0638989258329\n"
     ]
    }
   ],
   "source": [
    "input_data = df3[['Sex']]\n",
    "output_data = df3['Salary']\n",
    "\n",
    "regr = linear_model.LinearRegression()   \n",
    "regr.fit(input_data, output_data)   \n",
    "print(regr.coef_, regr.intercept_)\n",
    "print(regr.score(input_data, output_data))"
   ]
  },
  {
   "cell_type": "code",
   "execution_count": 12,
   "metadata": {
    "collapsed": false
   },
   "outputs": [
    {
     "data": {
      "image/png": "[encoded data removed]",
      "text/plain": [
       "<matplotlib.figure.Figure at 0x1083f9e48>"
      ]
     },
     "metadata": {},
     "output_type": "display_data"
    }
   ],
   "source": [
    "plt.scatter(input_data, output_data, color='green')\n",
    "plt.plot(input_data, regr.predict(input_data), color='red', linewidth=1)\n",
    "plt.title('Relationship of Salary to Gender', )\n",
    "plt.xlabel('Gender')\n",
    "plt.ylabel('Salary')\n",
    "plt.show()"
   ]
  },
  {
   "cell_type": "markdown",
   "metadata": {},
   "source": [
    "##### Linear Regression for Rank to Salary\n",
    "\n",
    "With an $R^2$ score of .75, there appears to be some relationship between salary and rank."
   ]
  },
  {
   "cell_type": "code",
   "execution_count": 13,
   "metadata": {
    "collapsed": false
   },
   "outputs": [
    {
     "name": "stdout",
     "output_type": "stream",
     "text": [
      "[ 5952.77890467] 11663.143002\n",
      "0.752536053927\n"
     ]
    }
   ],
   "source": [
    "input_data = df3[['Rank']]\n",
    "output_data = df3['Salary']\n",
    "\n",
    "regr = linear_model.LinearRegression()   \n",
    "regr.fit(input_data, output_data)   \n",
    "print(regr.coef_, regr.intercept_)\n",
    "print(regr.score(input_data, output_data))"
   ]
  },
  {
   "cell_type": "code",
   "execution_count": 14,
   "metadata": {
    "collapsed": false
   },
   "outputs": [
    {
     "data": {
      "image/png": "[encoded data removed]",
      "text/plain": [
       "<matplotlib.figure.Figure at 0x1085be518>"
      ]
     },
     "metadata": {},
     "output_type": "display_data"
    }
   ],
   "source": [
    "plt.scatter(input_data, output_data, color='green')\n",
    "plt.plot(input_data, regr.predict(input_data), color='red', linewidth=1)\n",
    "plt.title('Relationship of Salary to Rank', )\n",
    "plt.xlabel('Rank')\n",
    "plt.ylabel('Salary')\n",
    "plt.show()"
   ]
  },
  {
   "cell_type": "markdown",
   "metadata": {},
   "source": [
    "##### Linear Regression for Year to Salary\n",
    "\n",
    "With an $R^2$ score of .49, there appears to be no significant relationship between salary and number of years in current rank."
   ]
  },
  {
   "cell_type": "code",
   "execution_count": 15,
   "metadata": {
    "collapsed": false
   },
   "outputs": [
    {
     "name": "stdout",
     "output_type": "stream",
     "text": [
      "[ 752.79775742] 18166.1475455\n",
      "0.490937026769\n"
     ]
    }
   ],
   "source": [
    "input_data = df3[['Year']]\n",
    "output_data = df3['Salary']\n",
    "\n",
    "regr = linear_model.LinearRegression()   \n",
    "regr.fit(input_data, output_data)   \n",
    "print(regr.coef_, regr.intercept_)\n",
    "print(regr.score(input_data, output_data))"
   ]
  },
  {
   "cell_type": "code",
   "execution_count": 16,
   "metadata": {
    "collapsed": false
   },
   "outputs": [
    {
     "data": {
      "image/png": "[encoded data removed]",
      "text/plain": [
       "<matplotlib.figure.Figure at 0x109090940>"
      ]
     },
     "metadata": {},
     "output_type": "display_data"
    }
   ],
   "source": [
    "plt.scatter(input_data, output_data, color='green')\n",
    "plt.plot(input_data, regr.predict(input_data), color='red', linewidth=1)\n",
    "plt.title('Relationship of Years in Current Rank to Gender', )\n",
    "plt.xlabel('Years in Current Rank')\n",
    "plt.ylabel('Salary')\n",
    "plt.show()"
   ]
  },
  {
   "cell_type": "markdown",
   "metadata": {},
   "source": [
    "##### Linear Regression for Highest Degree to Salary\n",
    "\n",
    "With an $R^2$ score of .004, there appears to be no relationship between salary and highest degree earned."
   ]
  },
  {
   "cell_type": "code",
   "execution_count": 17,
   "metadata": {
    "collapsed": false
   },
   "outputs": [
    {
     "name": "stdout",
     "output_type": "stream",
     "text": [
      "[-858.86928105] 24359.2222222\n",
      "0.00486168098475\n"
     ]
    }
   ],
   "source": [
    "input_data = df3[['Degree']]\n",
    "output_data = df3['Salary']\n",
    "\n",
    "regr = linear_model.LinearRegression()   \n",
    "regr.fit(input_data, output_data)   \n",
    "print(regr.coef_, regr.intercept_)\n",
    "print(regr.score(input_data, output_data))"
   ]
  },
  {
   "cell_type": "code",
   "execution_count": 18,
   "metadata": {
    "collapsed": false
   },
   "outputs": [
    {
     "data": {
      "image/png": "[encoded data removed]",
      "text/plain": [
       "<matplotlib.figure.Figure at 0x109175940>"
      ]
     },
     "metadata": {},
     "output_type": "display_data"
    }
   ],
   "source": [
    "plt.scatter(input_data, output_data, color='green')\n",
    "plt.plot(input_data, regr.predict(input_data), color='red', linewidth=1)\n",
    "plt.title('Relationship of Salary to Degree', )\n",
    "plt.xlabel('Degree')\n",
    "plt.ylabel('Salary')\n",
    "plt.show()"
   ]
  },
  {
   "cell_type": "markdown",
   "metadata": {},
   "source": [
    "##### Linear Regression for Number of Years Since Degree to Salary\n",
    "\n",
    "With an $R^2$ score of .46, there appears to be no significant relationship between salary and number of years since the highest degree was earned."
   ]
  },
  {
   "cell_type": "code",
   "execution_count": 19,
   "metadata": {
    "collapsed": false
   },
   "outputs": [
    {
     "name": "stdout",
     "output_type": "stream",
     "text": [
      "[ 390.64512637] 17502.2573866\n",
      "0.455428134584\n"
     ]
    }
   ],
   "source": [
    "input_data = df3[['YSdeg']]\n",
    "output_data = df3['Salary']\n",
    "\n",
    "regr = linear_model.LinearRegression()   \n",
    "regr.fit(input_data, output_data)   \n",
    "print(regr.coef_, regr.intercept_)\n",
    "print(regr.score(input_data, output_data))"
   ]
  },
  {
   "cell_type": "code",
   "execution_count": 20,
   "metadata": {
    "collapsed": false
   },
   "outputs": [
    {
     "data": {
      "image/png": "[encoded data removed]",
      "text/plain": [
       "<matplotlib.figure.Figure at 0x10924a080>"
      ]
     },
     "metadata": {},
     "output_type": "display_data"
    }
   ],
   "source": [
    "plt.scatter(input_data, output_data, color='green')\n",
    "plt.plot(input_data, regr.predict(input_data), color='red', linewidth=1)\n",
    "plt.title('Relationship of Salary to Years Since Highest Degree', )\n",
    "plt.xlabel('Years Since Highest Degree')\n",
    "plt.ylabel('Salary')\n",
    "plt.show()"
   ]
  },
  {
   "cell_type": "markdown",
   "metadata": {},
   "source": [
    "### Searching for Columns with the Best $R^2$ Score\n",
    "\n",
    "In order to find out which of the various criteria which go into the determination of salary has the highest $R^2$ score, I will run all the possible combinations of criteria through a regression and store the results."
   ]
  },
  {
   "cell_type": "code",
   "execution_count": 21,
   "metadata": {
    "collapsed": false
   },
   "outputs": [
    {
     "name": "stdout",
     "output_type": "stream",
     "text": [
      "[[('Sex', 'Rank'), ('Sex', 'Year'), ('Sex', 'Degree'), ('Sex', 'YSdeg'), ('Rank', 'Year'), ('Rank', 'Degree'), ('Rank', 'YSdeg'), ('Year', 'Degree'), ('Year', 'YSdeg'), ('Degree', 'YSdeg')], [('Sex', 'Rank', 'Year'), ('Sex', 'Rank', 'Degree'), ('Sex', 'Rank', 'YSdeg'), ('Sex', 'Year', 'Degree'), ('Sex', 'Year', 'YSdeg'), ('Sex', 'Degree', 'YSdeg'), ('Rank', 'Year', 'Degree'), ('Rank', 'Year', 'YSdeg'), ('Rank', 'Degree', 'YSdeg'), ('Year', 'Degree', 'YSdeg')], [('Sex', 'Rank', 'Year', 'Degree'), ('Sex', 'Rank', 'Year', 'YSdeg'), ('Sex', 'Rank', 'Degree', 'YSdeg'), ('Sex', 'Year', 'Degree', 'YSdeg'), ('Rank', 'Year', 'Degree', 'YSdeg')], [('Sex', 'Rank', 'Year', 'Degree', 'YSdeg')]]\n"
     ]
    }
   ],
   "source": [
    "poss_cols = ['Sex', 'Rank', 'Year', 'Degree', 'YSdeg']\n",
    "combos = []\n",
    "regr_scores = []\n",
    "for x in range(2,6):\n",
    "    combos.append(list(itertools.combinations(poss_cols, x)))\n",
    "print(combos)\n",
    "for a in combos:\n",
    "    for b in a:\n",
    "        input_data = df3[list(b)]\n",
    "        output_data = df3['Sex']\n",
    "        regr = linear_model.LinearRegression()   \n",
    "        regr_scores.append(regr.fit(input_data, output_data))\n",
    "# for c in regr_scores:\n",
    "    \n",
    "    \n",
    "# max_score = max(regr_scores)\n",
    "# print(max_score)\n",
    "# print(regr_scores[5].coef_)\n",
    "\n",
    "\n",
    "    "
   ]
  },
  {
   "cell_type": "code",
   "execution_count": null,
   "metadata": {
    "collapsed": true
   },
   "outputs": [],
   "source": []
  },
  {
   "cell_type": "code",
   "execution_count": null,
   "metadata": {
    "collapsed": true
   },
   "outputs": [],
   "source": []
  }
 ],
 "metadata": {
  "kernelspec": {
   "display_name": "Python 3",
   "language": "python",
   "name": "python3"
  },
  "language_info": {
   "codemirror_mode": {
    "name": "ipython",
    "version": 3
   },
   "file_extension": ".py",
   "mimetype": "text/x-python",
   "name": "python",
   "nbconvert_exporter": "python",
   "pygments_lexer": "ipython3",
   "version": "3.4.3"
  }
 },
 "nbformat": 4,
 "nbformat_minor": 0
}
